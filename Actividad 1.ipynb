{
 "cells": [
  {
   "cell_type": "code",
   "execution_count": null,
   "id": "8ad240c2-dcb5-4c6c-be46-5412c176059d",
   "metadata": {},
   "outputs": [],
   "source": [
    "#Ejercicio 1"
   ]
  },
  {
   "cell_type": "code",
   "execution_count": 1,
   "id": "2c2a30ee-23fc-4dd6-9c77-a9c09705f30f",
   "metadata": {},
   "outputs": [
    {
     "name": "stdin",
     "output_type": "stream",
     "text": [
      "Ingrese un número:  2\n",
      "Ingrese otro número:  4\n"
     ]
    },
    {
     "name": "stdout",
     "output_type": "stream",
     "text": [
      "la multiplicación de 2 y 4 es: 8\n"
     ]
    }
   ],
   "source": [
    "a = int(input(\"Ingrese un número: \"))\n",
    "b = int(input(\"Ingrese otro número: \"))\n",
    "n_sumasdea= 0\n",
    "contador= 0\n",
    "while contador<b:\n",
    "    n_sumasdea += a\n",
    "    contador +=1\n",
    "        \n",
    "print(f\"la multiplicación de {a} y {b} es: {n_sumasdea}\")"
   ]
  },
  {
   "cell_type": "code",
   "execution_count": null,
   "id": "5f064717-ee75-4fd2-838b-1c52e930c68a",
   "metadata": {},
   "outputs": [],
   "source": [
    "#Ejercicio 2"
   ]
  },
  {
   "cell_type": "code",
   "execution_count": null,
   "id": "1cf54d65-3792-44c1-b4ca-5c7a1cd236f0",
   "metadata": {},
   "outputs": [],
   "source": [
    "n= int(input(\"Ingrese el numero de notas: \"))\n",
    "promedio= 0\n",
    "contador= 0 \n",
    "while contador<n:\n",
    "    x= float(input(f\"Ingrese la nota {contador+1}: \"))\n",
    "    promedio += x /n\n",
    "    contador +=1\n",
    "print(f\"El promedio de tus notas es: {promedio}\")"
   ]
  },
  {
   "cell_type": "code",
   "execution_count": null,
   "id": "1a122e2f-0eaf-4309-b302-0694ac10a490",
   "metadata": {},
   "outputs": [],
   "source": [
    "#Ejercicio 3"
   ]
  },
  {
   "cell_type": "code",
   "execution_count": null,
   "id": "9b7875c0-aa9e-43b1-bd31-150b7f424eb0",
   "metadata": {},
   "outputs": [],
   "source": [
    "n= int(input(\"Ingrese un valor para la base de una potencia del 0 al 9: \"))\n",
    "x= int(input(\"Ingrese un valor para el exponente de la potencia del 0 al 9: \"))\n",
    "\n",
    "if n>0 and n<9 and x>0 and x<9:\n",
    "    contador = 0\n",
    "    while contador<= x:\n",
    "        print(n**contador)\n",
    "        contador += 1"
   ]
  },
  {
   "cell_type": "code",
   "execution_count": null,
   "id": "0e1b56c7-ffa7-43c3-bec8-f345cdba1518",
   "metadata": {},
   "outputs": [],
   "source": [
    "#Ejercicio 4"
   ]
  },
  {
   "cell_type": "code",
   "execution_count": null,
   "id": "c537633a-46ea-4866-9427-d78b7ceb4ae2",
   "metadata": {},
   "outputs": [],
   "source": [
    "i= int(input(\"Ingrese el número hasta el cual desee hacer la suma de impares: \"))\n",
    "resultado= 0\n",
    "contador= 1\n",
    "while contador<= i:\n",
    "    resultado += contador\n",
    "    contador += 2\n",
    "print(f\"la suma de los numeros impares dió como resultado {resultado}\")"
   ]
  },
  {
   "cell_type": "code",
   "execution_count": null,
   "id": "dae59e27-054a-4cad-b35e-12be1cde7f52",
   "metadata": {},
   "outputs": [],
   "source": [
    "#Ejercicio 5"
   ]
  },
  {
   "cell_type": "code",
   "execution_count": null,
   "id": "ad4279a1-0063-4813-8386-5235f8ea8b81",
   "metadata": {},
   "outputs": [],
   "source": [
    "fac= int(input(\"Ingrese un número del 0 al 20 para saber su factorial: \"))\n",
    "resultado= 1\n",
    "contador = 1\n",
    "while contador<=fac:\n",
    "    resultado *= contador\n",
    "    contador +=1\n",
    "print(f\"El factorial es {resultado}\")\n",
    "if fac== contador:\n",
    "    salir= input(\"Ingrese si o no para romper el ciclo\")\n",
    "    if salir == \"si\":\n",
    "        break\n",
    "    elif salir== \"no\":\n",
    "        continue\n",
    "    else:\n",
    "        Print(\"Ingerese si o no explicitamente\")"
   ]
  },
  {
   "cell_type": "code",
   "execution_count": null,
   "id": "04b97ae9-8c39-418e-ba07-e4214e79636e",
   "metadata": {},
   "outputs": [],
   "source": [
    "#Ejercicio 6"
   ]
  },
  {
   "cell_type": "code",
   "execution_count": null,
   "id": "351ca841-802e-4944-b03f-1aaf735a812b",
   "metadata": {},
   "outputs": [],
   "source": [
    "a= int(input(\"Entero: \"))\n",
    "n= int(input(\"cantidad de sumas: \"))\n",
    "i= 1\n",
    "suma= 0\n",
    "while i<=n:\n",
    "    suma+= (1/a)**i\n",
    "    i += 1\n",
    "\n",
    "print(f\"La suma final con n= {n} y a= {a} es: {suma}\")"
   ]
  }
 ],
 "metadata": {
  "kernelspec": {
   "display_name": "Python 3 (ipykernel)",
   "language": "python",
   "name": "python3"
  },
  "language_info": {
   "codemirror_mode": {
    "name": "ipython",
    "version": 3
   },
   "file_extension": ".py",
   "mimetype": "text/x-python",
   "name": "python",
   "nbconvert_exporter": "python",
   "pygments_lexer": "ipython3",
   "version": "3.12.4"
  }
 },
 "nbformat": 4,
 "nbformat_minor": 5
}
